{
 "cells": [
  {
   "cell_type": "code",
   "execution_count": 9,
   "metadata": {},
   "outputs": [],
   "source": [
    "import time, re, sys, datetime\n",
    "import urllib.request, pytz, json, telegram, mariadb\n",
    "from pandas import DataFrame\n",
    "\n",
    "\n",
    "def api_get_date():\n",
    "    standard_time  = [2, 5, 8, 11, 14, 17, 20, 23]                                              # api response time. 1일 8회의 기상정보를 제공한다. 각 시간의 10분에 API 제공된다.\n",
    "    time           = datetime.datetime.now(tz=pytz.timezone('Asia/Seoul')).strftime('%Y%m%d%H')\n",
    "    time_now       = time[8:]                                                                   # 현재 시간을 저장\n",
    "    check_time     = int(time_now) - 1\n",
    "    day_calibrate  = 0\n",
    "    \n",
    "    while not check_time in standard_time:\n",
    "        check_time = check_time - 1\n",
    "        if check_time < 2:                                                                     # 지금 체크를 돌린 시간이 2시도 안된다면\n",
    "            day_calibrate = 1                                                                  # 날짜를 하루 되돌리기 위한 변수다. \n",
    "            check_time    = 23                                                                 # 되돌려진 하루 전에서 가장 큰 기상정보 제공 시간은 23시이다\n",
    "    date_now = time[:8]                                                                        # ex) 2020-05-25\n",
    "    check_date = int(date_now) - day_calibrate                                                 # day_calibrate 에 값이 있다면 하루 되돌려진다\n",
    "    \n",
    "    if len(str(check_time))   == 1: check_time = '0' + str(check_time) + '00'\n",
    "    elif len(str(check_time)) == 2: check_time = str(check_time) + '00'\n",
    "\n",
    "    return (str(check_date), (str(check_time)))"
   ]
  },
  {
   "cell_type": "code",
   "execution_count": 15,
   "metadata": {},
   "outputs": [],
   "source": [
    "def get_weather_data():\n",
    "    api_date, api_time = api_get_date()\n",
    "    url            = \"http://apis.data.go.kr/1360000/VilageFcstInfoService/getVilageFcst?\"\n",
    "    key            = \"serviceKey=\" + \"kBDCcW%2FZ4%2BBBMbdopYbthceipFAvI9PFq6ZEyfR7KjJjb5MZecSR4VSZ9T0FS1hFN4cSOpCHD6MTZv0NF4fApw%3D%3D\"\n",
    "    numofrows      = \"&numOfRows=\" + \"10\"\n",
    "    pageno         = \"&pageNo=\" + \"1\"\n",
    "    base_date      = \"&base_date=\" + api_date\n",
    "    base_time      = \"&base_time=\" + api_time\n",
    "    nx             = \"&nx=\" + \"62\"\n",
    "    ny             = \"&ny=\" + \"123\"\n",
    "    datatype       = \"&dataType=\" + \"json\"\n",
    "    api_url        = url + key + numofrows + pageno + base_date + base_time + nx + ny + datatype\n",
    "    data           = urllib.request.urlopen(api_url).read().decode('utf8')            # 주어진 url 의 내용을 utf-8로 디코드하며 읽는 메서드이다.\n",
    "    data_json      = json.loads(data)\n",
    "    parsed_json    = data_json['response']['body']['items']['item']                   # response{ 'header': {...}, 'body': {..., 'items': {'item': {...}}}} 를 찾아가는 경로이다.\n",
    "    target_date    = parsed_json[0]['fcstDate']     \n",
    "    target_time    = parsed_json[0]['fcstTime']\n",
    "    passing_data   = {}    \n",
    "#    date_calibrate = target_date    # date of TMX, TMN\n",
    "#    if target_time > '1300':\n",
    "#        date_calibrate = str(int(target_date) + 1)\n",
    "    "
   ]
  },
  {
   "cell_type": "code",
   "execution_count": 17,
   "metadata": {},
   "outputs": [
    {
     "ename": "NameError",
     "evalue": "name 'parsed_json' is not defined",
     "output_type": "error",
     "traceback": [
      "\u001b[1;31m---------------------------------------------------------------------------\u001b[0m",
      "\u001b[1;31mNameError\u001b[0m                                 Traceback (most recent call last)",
      "\u001b[1;32m<ipython-input-17-d4578817d746>\u001b[0m in \u001b[0;36m<module>\u001b[1;34m\u001b[0m\n\u001b[1;32m----> 1\u001b[1;33m \u001b[1;32mfor\u001b[0m \u001b[0mone_parsed\u001b[0m \u001b[1;32min\u001b[0m \u001b[0mparsed_json\u001b[0m\u001b[1;33m:\u001b[0m\u001b[1;33m\u001b[0m\u001b[1;33m\u001b[0m\u001b[0m\n\u001b[0m\u001b[0;32m      2\u001b[0m         \u001b[1;31m# one_parsed 의 출력 형태 : {'baseDate': '20200524', 'baseTime': '2300', 'category': 'POP', 'fcstDate': '20200525', 'fcstTime': '0300', 'fcstValue': '20', 'nx': 55, 'ny': 127}\u001b[0m\u001b[1;33m\u001b[0m\u001b[1;33m\u001b[0m\u001b[1;33m\u001b[0m\u001b[0m\n\u001b[0;32m      3\u001b[0m     \u001b[1;32mif\u001b[0m \u001b[0mone_parsed\u001b[0m\u001b[1;33m[\u001b[0m\u001b[1;34m'fcstDate'\u001b[0m\u001b[1;33m]\u001b[0m \u001b[1;33m==\u001b[0m \u001b[0mtarget_date\u001b[0m \u001b[1;32mand\u001b[0m \u001b[0mone_parsed\u001b[0m\u001b[1;33m[\u001b[0m\u001b[1;34m'fcstTime'\u001b[0m\u001b[1;33m]\u001b[0m \u001b[1;33m==\u001b[0m \u001b[0mtarget_time\u001b[0m\u001b[1;33m:\u001b[0m\u001b[1;33m\u001b[0m\u001b[1;33m\u001b[0m\u001b[0m\n\u001b[0;32m      4\u001b[0m         \u001b[0mpassing_data\u001b[0m\u001b[1;33m[\u001b[0m\u001b[0mone_parsed\u001b[0m\u001b[1;33m[\u001b[0m\u001b[1;34m'category'\u001b[0m\u001b[1;33m]\u001b[0m\u001b[1;33m]\u001b[0m \u001b[1;33m=\u001b[0m \u001b[0mone_parsed\u001b[0m\u001b[1;33m[\u001b[0m\u001b[1;34m'fcstValue'\u001b[0m\u001b[1;33m]\u001b[0m\u001b[1;33m\u001b[0m\u001b[1;33m\u001b[0m\u001b[0m\n\u001b[0;32m      5\u001b[0m             \u001b[1;31m# passing_data 의 데이터가 누적되는 과정\u001b[0m\u001b[1;33m\u001b[0m\u001b[1;33m\u001b[0m\u001b[1;33m\u001b[0m\u001b[0m\n",
      "\u001b[1;31mNameError\u001b[0m: name 'parsed_json' is not defined"
     ]
    }
   ],
   "source": [
    "    for one_parsed in parsed_json:\n",
    "        # one_parsed 의 출력 형태 : {'baseDate': '20200524', 'baseTime': '2300', 'category': 'POP', 'fcstDate': '20200525', 'fcstTime': '0300', 'fcstValue': '20', 'nx': 55, 'ny': 127}\n",
    "        if one_parsed['fcstDate'] == target_date and one_parsed['fcstTime'] == target_time:\n",
    "            passing_data[one_parsed['category']] = one_parsed['fcstValue']\n",
    "            # passing_data 의 데이터가 누적되는 과정\n",
    "            # {'POP': '20'}\n",
    "            # {'POP': '20', 'PTY': '0'}\n",
    "            # {'POP': '20', 'PTY': '0', 'REH': '95'}\n",
    "            # {'POP': '20', 'PTY': '0', 'REH': '95', 'SKY': '3'}\n",
    "            # {'POP': '20', 'PTY': '0', 'REH': '95', 'SKY': '3', 'T3H': '14'}\n",
    "            # {'POP': '20', 'PTY': '0', 'REH': '95', 'SKY': '3', 'T3H': '14', 'UUU': '0.4'}\n",
    "            # {'POP': '20', 'PTY': '0', 'REH': '95', 'SKY': '3', 'T3H': '14', 'UUU': '0.4', 'VEC': '214'}\n",
    "            # {'POP': '20', 'PTY': '0', 'REH': '95', 'SKY': '3', 'T3H': '14', 'UUU': '0.4', 'VEC': '214', 'VVV': '0.6'}\n",
    "            # {'POP': '20', 'PTY': '0', 'REH': '95', 'SKY': '3', 'T3H': '14', 'UUU': '0.4', 'VEC': '214', 'VVV': '0.6', 'WSD': '0.7'}\n",
    "\n",
    "    #   if one_parsed['fcstDate'] == date_calibrate and (one_parsed['category'] == 'TMX' or one_parsed['category'] == 'TMN'):   # TMX, TMN 이 안쌓이고 있다. 바뀐 점이 있는지 명세표 확인 필요\n",
    "    #        passing_data[one_parsed['category']] = one_parsed['fcstValue']\n",
    "    return passing_data"
   ]
  },
  {
   "cell_type": "code",
   "execution_count": null,
   "metadata": {},
   "outputs": [],
   "source": [
    "def weather_data(result):\n",
    "    # 날씨 정보 해석을 위한 비교 데이터\n",
    "    data = \"\"\"      \n",
    "PTY 0 날씨정보 없음\n",
    "PTY 1 비\n",
    "PTY 2 비 또는 눈\n",
    "PTY 3 눈\n",
    "PTY 4 소나기\n",
    "SKY 1 맑음\n",
    "SKY 3 구름 많음\n",
    "SKY 4 흐림  \"\"\"\n",
    "    msg = []\n",
    "    ma  = msg.append\n",
    "    ma('오늘은 ' + time.ctime()[:11] + '입니다\\n')\n",
    "    for x, y in result.items():\n",
    "        if x in ['PTY', 'SKY']:\n",
    "            code     = x\n",
    "            code_num = y\n",
    "            word     = f'^{code}\\s{code_num}\\s(.+)'\n",
    "            match    = re.compile(f'{word}', re.MULTILINE)\n",
    "            if x == 'PTY': msg.append('강수 형태는 ' + match.search(data).group(1) + '입니다\\n')\n",
    "            if x == 'SKY': msg.append('날씨는 '     + match.search(data).group(1) + '이며 ')\n",
    "        #if x in ['POP', 'REH']:\n",
    "        if x == 'POP': msg.append('강수 확률은 ' + result[x] + '%입니다')\n",
    "        if x == 'REH': msg.append('습도는 '     + result[x] + '%이고 ')   \n",
    "        \n",
    "    short = DataFrame(msg).values    # 0, 4, 2, 3, 1 순서로 실행하면 날씨 읽어보기에 좋다.\n",
    "    return (short[0] + short[4] + short[2] + short[3] + short[1])"
   ]
  },
  {
   "cell_type": "code",
   "execution_count": null,
   "metadata": {},
   "outputs": [],
   "source": [
    "def db_insert(result):\n",
    "    config = {\n",
    "    'host': 'localhost',\n",
    "    'user': 'jh',\n",
    "    'password': '',\n",
    "    'database': 'scraping'\n",
    "    }\n",
    "    try:\n",
    "        conn = mariadb.connect(**config)\n",
    "    except mariadb.Error as err:\n",
    "        print(err, file=sys.stderr)\n",
    "        sys.exit(1)\n",
    "    cur = conn.cursor()\n",
    "    cur.execute(\"INSERT INTO weather VALUES (?, ?, ?, ?, ?, ?, ?, ?, ?)\", \n",
    "            (time.strftime(\"%m/%d %H:%M\"), result['POP'], result['PTY'], result['REH'], result['SKY'], result['T3H'], result['UUU'], result['VEC'], result['VVV'],))\n",
    "\n",
    "    cur.execute(\"SELECT * FROM weather\")\n",
    "    conn.close()\n",
    "    ## Database Insert  \n",
    "    # brew install mariadb \n",
    "    # DB와 Table 생성 \n",
    "    # cur.execute(\"CREATE DATABASE scraping\")\n",
    "    # cur.execute(\"CREATE TABLE weather(DATE_TIME VARCHAR(255), POP VARCHAR(255), PTY VARCHAR(255), REH VARCHAR(255), SKY VARCHAR(255), \n",
    "    #                                                           T3H VARCHAR(255), UUU VARCHAR(255), VEC VARCHAR(255), VVV VARCHAR(255)\")\n",
    "\n",
    "    # +-----------+--------------+------+-----+---------+-------+\n",
    "    # | Field     | Type         | Null | Key | Default | Extra |\n",
    "    # +-----------+--------------+------+-----+---------+-------+\n",
    "    # | DATE_TIME | varchar(255) | YES  |     | NULL    |       |\n",
    "    # | POP       | varchar(255) | YES  |     | NULL    |       |\n",
    "    # | PTY       | varchar(255) | YES  |     | NULL    |       |\n",
    "    # | REH       | varchar(255) | YES  |     | NULL    |       |\n",
    "    # | SKY       | varchar(255) | YES  |     | NULL    |       |\n",
    "    # | T3H       | varchar(255) | YES  |     | NULL    |       |\n",
    "    # | UUU       | varchar(255) | YES  |     | NULL    |       |\n",
    "    # | VEC       | varchar(255) | YES  |     | NULL    |       |\n",
    "    # | VVV       | varchar(255) | YES  |     | NULL    |       |\n",
    "    # +-----------+--------------+------+-----+---------+-------+\n",
    "    # +-------------+------+------+------+------+------+------+------+------+------+\n",
    "    # | DATE_TIME   | POP  | PTY  | REH  | SKY  | T3H  | UUU  | VEC  | VVV  | WSD(삭제)|\n",
    "    # +-------------+------+------+------+------+------+------+------+------+------+\n",
    "    # | 05/27 01:05 | 0    | 0    | 95   | 1    | 14   | 0    | 135  | 0.1  |      |\n",
    "    # +-------------+------+------+------+------+------+------+------+------+------+"
   ]
  },
  {
   "cell_type": "code",
   "execution_count": 7,
   "metadata": {},
   "outputs": [
    {
     "ename": "ModuleNotFoundError",
     "evalue": "No module named 'mariadb'",
     "output_type": "error",
     "traceback": [
      "\u001b[1;31m---------------------------------------------------------------------------\u001b[0m",
      "\u001b[1;31mModuleNotFoundError\u001b[0m                       Traceback (most recent call last)",
      "\u001b[1;32m<ipython-input-7-2e080fb00faa>\u001b[0m in \u001b[0;36m<module>\u001b[1;34m\u001b[0m\n\u001b[0;32m      1\u001b[0m \u001b[1;33m\u001b[0m\u001b[0m\n\u001b[0;32m      2\u001b[0m \u001b[1;32mimport\u001b[0m \u001b[0mtime\u001b[0m\u001b[1;33m,\u001b[0m \u001b[0mre\u001b[0m\u001b[1;33m,\u001b[0m \u001b[0msys\u001b[0m\u001b[1;33m,\u001b[0m \u001b[0mdatetime\u001b[0m\u001b[1;33m\u001b[0m\u001b[1;33m\u001b[0m\u001b[0m\n\u001b[1;32m----> 3\u001b[1;33m \u001b[1;32mimport\u001b[0m \u001b[0murllib\u001b[0m\u001b[1;33m.\u001b[0m\u001b[0mrequest\u001b[0m\u001b[1;33m,\u001b[0m \u001b[0mpytz\u001b[0m\u001b[1;33m,\u001b[0m \u001b[0mjson\u001b[0m\u001b[1;33m,\u001b[0m \u001b[0mtelegram\u001b[0m\u001b[1;33m,\u001b[0m \u001b[0mmariadb\u001b[0m\u001b[1;33m\u001b[0m\u001b[1;33m\u001b[0m\u001b[0m\n\u001b[0m\u001b[0;32m      4\u001b[0m \u001b[1;32mfrom\u001b[0m \u001b[0mpandas\u001b[0m \u001b[1;32mimport\u001b[0m \u001b[0mDataFrame\u001b[0m\u001b[1;33m\u001b[0m\u001b[1;33m\u001b[0m\u001b[0m\n\u001b[0;32m      5\u001b[0m \u001b[1;33m\u001b[0m\u001b[0m\n",
      "\u001b[1;31mModuleNotFoundError\u001b[0m: No module named 'mariadb'"
     ]
    }
   ],
   "source": [
    "def telegram_send(msg):\n",
    "    # Telegram \n",
    "    telgm_token = '1100317510:AAHj4lKEBTELIR-vnrN62Mnk4YvCHH_3ql4'\n",
    "    bot = telegram.Bot(token=telgm_token)\n",
    "    updates = bot.getUpdates()                 # 무언가를 주기적으로 타이핑해주어야 챗봇이 끊기지 않고 있다. 업데이트 내역을 받아온다.\n",
    "    telid = []\n",
    "    for u in updates:               \n",
    "        telid = u.message['chat']['id']\n",
    "    bot.sendMessage(chat_id=telid, text=msg[0])\n",
    "\n",
    "\n",
    "def main():\n",
    "    result = get_weather_data()\n",
    "    msg = weather_data(result)\n",
    "    db_insert(result)\n",
    "    telegram_send(msg)                        # 출력 형태 : {'POP': '20', 'PTY': '0', ...... , 'WSD': '0.7'}\n",
    "\n",
    "if __name__ == '__main__':\n",
    "    main()"
   ]
  },
  {
   "cell_type": "code",
   "execution_count": null,
   "metadata": {},
   "outputs": [],
   "source": []
  }
 ],
 "metadata": {
  "kernelspec": {
   "display_name": "Python 3",
   "language": "python",
   "name": "python3"
  },
  "language_info": {
   "codemirror_mode": {
    "name": "ipython",
    "version": 3
   },
   "file_extension": ".py",
   "mimetype": "text/x-python",
   "name": "python",
   "nbconvert_exporter": "python",
   "pygments_lexer": "ipython3",
   "version": "3.7.1"
  }
 },
 "nbformat": 4,
 "nbformat_minor": 2
}
